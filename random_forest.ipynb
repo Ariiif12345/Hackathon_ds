{
 "cells": [
  {
   "cell_type": "code",
   "execution_count": 1,
   "id": "b6908858",
   "metadata": {},
   "outputs": [],
   "source": [
    "import pandas as pd\n",
    "import numpy as np\n",
    "import pickle\n",
    "import tarfile\n",
    "from sklearn.model_selection import train_test_split, RandomizedSearchCV\n",
    "from sklearn.ensemble import RandomForestClassifier\n",
    "from sklearn.metrics import classification_report, confusion_matrix"
   ]
  },
  {
   "cell_type": "code",
   "execution_count": 2,
   "id": "156261b9",
   "metadata": {},
   "outputs": [],
   "source": [
    "df = pd.read_csv('trainable.csv')"
   ]
  },
  {
   "cell_type": "code",
   "execution_count": 3,
   "id": "4f365ea5",
   "metadata": {},
   "outputs": [],
   "source": [
    "X = df.drop('final_status', axis=1)\n",
    "y = df['final_status']"
   ]
  },
  {
   "cell_type": "code",
   "execution_count": 4,
   "id": "1a11d939",
   "metadata": {},
   "outputs": [],
   "source": [
    "X_train, X_temp, y_train, y_temp = train_test_split(X, y, test_size=0.3, random_state=42, stratify=y)\n",
    "X_val, X_test, y_val, y_test = train_test_split(X_temp, y_temp, test_size=0.5, random_state=42, stratify=y_temp)"
   ]
  },
  {
   "cell_type": "code",
   "execution_count": 5,
   "id": "1628bee8",
   "metadata": {},
   "outputs": [],
   "source": [
    "rf = RandomForestClassifier(random_state=42)\n",
    "param_dist = {\n",
    "    'n_estimators': [100, 200, 300],\n",
    "    'max_depth': [None, 10, 20, 30],\n",
    "    'min_samples_split': [2, 5, 10],\n",
    "    'min_samples_leaf': [1, 2, 4],\n",
    "    'bootstrap': [True, False]\n",
    "}"
   ]
  },
  {
   "cell_type": "code",
   "execution_count": 6,
   "id": "91b07876",
   "metadata": {},
   "outputs": [],
   "source": [
    "random_search = RandomizedSearchCV(\n",
    "    rf, param_distributions=param_dist, n_iter=20, cv=3,\n",
    "    scoring='f1', random_state=42, n_jobs=-1\n",
    ")\n",
    "random_search.fit(X_train, y_train)\n",
    "\n",
    "# Best model\n",
    "best_rf = random_search.best_estimator_"
   ]
  },
  {
   "cell_type": "code",
   "execution_count": 7,
   "id": "7f3311f5",
   "metadata": {},
   "outputs": [],
   "source": [
    "y_pred = best_rf.predict(X_test)"
   ]
  },
  {
   "cell_type": "code",
   "execution_count": 8,
   "id": "1aa46466",
   "metadata": {},
   "outputs": [],
   "source": [
    "report = classification_report(y_test, y_pred)"
   ]
  },
  {
   "cell_type": "code",
   "execution_count": 9,
   "id": "701cb706",
   "metadata": {},
   "outputs": [],
   "source": [
    "cm = confusion_matrix(y_test, y_pred)\n",
    "tn, fp, fn, tp = cm.ravel()\n",
    "risk_score = fn / (fn + tp)"
   ]
  },
  {
   "cell_type": "code",
   "execution_count": 10,
   "id": "1739fa3a",
   "metadata": {},
   "outputs": [],
   "source": [
    "report_text = report + f\"\\nRisk Score: {risk_score:.4f}\"\n",
    "with open('classification_report.txt', \"w\") as f:\n",
    "    f.write(report_text)"
   ]
  },
  {
   "cell_type": "code",
   "execution_count": 11,
   "id": "ab990f39",
   "metadata": {},
   "outputs": [],
   "source": [
    "with open('random_forest_model.pkl', \"wb\") as f:\n",
    "    pickle.dump(best_rf, f)"
   ]
  },
  {
   "cell_type": "code",
   "execution_count": 14,
   "id": "3f436c6b",
   "metadata": {},
   "outputs": [
    {
     "name": "stdout",
     "output_type": "stream",
     "text": [
      "Training complete.\n"
     ]
    }
   ],
   "source": [
    "with tarfile.open('random_forest.tar.gz', \"w:gz\") as tar:\n",
    "    tar.add('random_forest_model.pkl')\n",
    "    tar.add('classification_report.txt')\n",
    "\n",
    "print(\"Training complete.\")"
   ]
  },
  {
   "cell_type": "code",
   "execution_count": 13,
   "id": "432af5e0",
   "metadata": {},
   "outputs": [
    {
     "name": "stdout",
     "output_type": "stream",
     "text": [
      "Risk Score: 0.0563\n",
      "Artifacts saved: random_forest_model.pkl, classification_report.txt, model_artifacts.tar.gz\n"
     ]
    }
   ],
   "source": [
    "print(f\"Risk Score: {risk_score:.4f}\")\n",
    "print(\"Artifacts saved: random_forest_model.pkl, classification_report.txt, model_artifacts.tar.gz\")"
   ]
  },
  {
   "cell_type": "code",
   "execution_count": null,
   "id": "69182783",
   "metadata": {},
   "outputs": [],
   "source": []
  }
 ],
 "metadata": {
  "kernelspec": {
   "display_name": "Python 3",
   "language": "python",
   "name": "python3"
  },
  "language_info": {
   "codemirror_mode": {
    "name": "ipython",
    "version": 3
   },
   "file_extension": ".py",
   "mimetype": "text/x-python",
   "name": "python",
   "nbconvert_exporter": "python",
   "pygments_lexer": "ipython3",
   "version": "3.12.1"
  }
 },
 "nbformat": 4,
 "nbformat_minor": 5
}
